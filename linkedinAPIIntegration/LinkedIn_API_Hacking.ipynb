{
  "nbformat": 4,
  "nbformat_minor": 0,
  "metadata": {
    "colab": {
      "name": "LinkedIn API Hacking",
      "version": "0.3.2",
      "provenance": []
    },
    "kernelspec": {
      "name": "python2",
      "display_name": "Python 2"
    }
  },
  "cells": [
    {
      "metadata": {
        "id": "CMdCzBdFJ2Mr",
        "colab_type": "code",
        "outputId": "3cddf7ea-9873-4621-fc89-b3841313bb4e",
        "colab": {
          "base_uri": "https://localhost:8080/",
          "height": 233
        }
      },
      "cell_type": "code",
      "source": [
        "!pip install python-linkedin-v2"
      ],
      "execution_count": 0,
      "outputs": [
        {
          "output_type": "stream",
          "text": [
            "Collecting python-linkedin-v2\n",
            "  Downloading https://files.pythonhosted.org/packages/c9/52/6945fd9448bf735b5e12c9b4c8ec09b8300a684a1578797ec689c7d1979f/python_linkedin_v2-0.9.5-py2-none-any.whl\n",
            "Requirement already satisfied: requests>=1.1.0 in /usr/local/lib/python2.7/dist-packages (from python-linkedin-v2) (2.18.4)\n",
            "Requirement already satisfied: requests-oauthlib>=0.3 in /usr/local/lib/python2.7/dist-packages (from python-linkedin-v2) (1.2.0)\n",
            "Requirement already satisfied: idna<2.7,>=2.5 in /usr/local/lib/python2.7/dist-packages (from requests>=1.1.0->python-linkedin-v2) (2.6)\n",
            "Requirement already satisfied: urllib3<1.23,>=1.21.1 in /usr/local/lib/python2.7/dist-packages (from requests>=1.1.0->python-linkedin-v2) (1.22)\n",
            "Requirement already satisfied: certifi>=2017.4.17 in /usr/local/lib/python2.7/dist-packages (from requests>=1.1.0->python-linkedin-v2) (2018.11.29)\n",
            "Requirement already satisfied: chardet<3.1.0,>=3.0.2 in /usr/local/lib/python2.7/dist-packages (from requests>=1.1.0->python-linkedin-v2) (3.0.4)\n",
            "Requirement already satisfied: oauthlib>=3.0.0 in /usr/local/lib/python2.7/dist-packages (from requests-oauthlib>=0.3->python-linkedin-v2) (3.0.1)\n",
            "Installing collected packages: python-linkedin-v2\n",
            "Successfully installed python-linkedin-v2-0.9.5\n"
          ],
          "name": "stdout"
        }
      ]
    },
    {
      "metadata": {
        "id": "8KHE8imFJ4T-",
        "colab_type": "code",
        "outputId": "36fd51e6-28d8-4f81-9f5c-a890bf5451e4",
        "colab": {
          "base_uri": "https://localhost:8080/",
          "height": 232
        }
      },
      "cell_type": "code",
      "source": [
        "from linkedin_v2 import linkedin\n",
        "\n",
        "# Define CONSUMER_KEY, CONSUMER_SECRET,  \n",
        "# USER_TOKEN, and USER_SECRET from the credentials \n",
        "# provided in your LinkedIn application\n",
        "\n",
        "# Instantiate the developer authentication class\n",
        "\n",
        "authentication = linkedin.LinkedInDeveloperAuthentication(CONSUMER_KEY, CONSUMER_SECRET, \n",
        "                                                          USER_TOKEN, USER_SECRET, \n",
        "                                                          RETURN_URL, linkedin.PERMISSIONS.enums.values())\n",
        "\n",
        "# Pass it in to the app...\n",
        "\n",
        "application = linkedin.LinkedInApplication(authentication)\n",
        "\n",
        "# Use the app....\n",
        "\n",
        "application.get_profile()"
      ],
      "execution_count": 0,
      "outputs": [
        {
          "output_type": "error",
          "ename": "NameError",
          "evalue": "ignored",
          "traceback": [
            "\u001b[0;31m\u001b[0m",
            "\u001b[0;31mNameError\u001b[0mTraceback (most recent call last)",
            "\u001b[0;32m<ipython-input-3-a6847e4d6552>\u001b[0m in \u001b[0;36m<module>\u001b[0;34m()\u001b[0m\n\u001b[1;32m      7\u001b[0m \u001b[0;31m# Instantiate the developer authentication class\u001b[0m\u001b[0;34m\u001b[0m\u001b[0;34m\u001b[0m\u001b[0m\n\u001b[1;32m      8\u001b[0m \u001b[0;34m\u001b[0m\u001b[0m\n\u001b[0;32m----> 9\u001b[0;31m authentication = linkedin.LinkedInDeveloperAuthentication(CONSUMER_KEY, '86nktvtgrh7tf5', \n\u001b[0m\u001b[1;32m     10\u001b[0m                                                           \u001b[0mUSER_TOKEN\u001b[0m\u001b[0;34m,\u001b[0m \u001b[0;34m'TmHUayJaDhQJN7c5'\u001b[0m\u001b[0;34m,\u001b[0m\u001b[0;34m\u001b[0m\u001b[0m\n\u001b[1;32m     11\u001b[0m                                                           RETURN_URL, linkedin.PERMISSIONS.enums.values())\n",
            "\u001b[0;31mNameError\u001b[0m: name 'CONSUMER_KEY' is not defined"
          ]
        }
      ]
    },
    {
      "metadata": {
        "id": "BYxTE326KAEw",
        "colab_type": "code",
        "outputId": "88556f73-a926-4d0a-c1af-90c56975650b",
        "colab": {
          "base_uri": "https://localhost:8080/",
          "height": 130
        }
      },
      "cell_type": "code",
      "source": [
        "try: \n",
        "    from BeautifulSoup import BeautifulSoup\n",
        "except ImportError:\n",
        "    from bs4 import BeautifulSoup\n",
        "html = #the HTML code you've written above\n",
        "parsed_html = BeautifulSoup('https://www.linkedin.com/in/zkaramat/')\n",
        "print parsed_html.body.find('div', attrs={'class':'container'}).text"
      ],
      "execution_count": 0,
      "outputs": [
        {
          "output_type": "error",
          "ename": "SyntaxError",
          "evalue": "ignored",
          "traceback": [
            "\u001b[0;36m  File \u001b[0;32m\"<ipython-input-4-949829c2de55>\"\u001b[0;36m, line \u001b[0;32m5\u001b[0m\n\u001b[0;31m    html = #the HTML code you've written above\u001b[0m\n\u001b[0m                                              ^\u001b[0m\n\u001b[0;31mSyntaxError\u001b[0m\u001b[0;31m:\u001b[0m invalid syntax\n"
          ]
        }
      ]
    },
    {
      "metadata": {
        "id": "GzyLykAvON5i",
        "colab_type": "code",
        "outputId": "dcdb1190-fe74-4c4d-8627-f62813df0019",
        "colab": {
          "base_uri": "https://localhost:8080/",
          "height": 34
        }
      },
      "cell_type": "code",
      "source": [
        "import requests\n",
        "\n",
        "page = requests.get('https://www.linkedin.com/in/zkaramat/')\n",
        "page"
      ],
      "execution_count": 0,
      "outputs": [
        {
          "output_type": "execute_result",
          "data": {
            "text/plain": [
              "<Response [999]>"
            ]
          },
          "metadata": {
            "tags": []
          },
          "execution_count": 8
        }
      ]
    },
    {
      "metadata": {
        "id": "kIpKBEa9OYCJ",
        "colab_type": "code",
        "outputId": "3c5db66d-dfeb-41e0-b45d-1796359a8a11",
        "colab": {
          "base_uri": "https://localhost:8080/",
          "height": 74
        }
      },
      "cell_type": "code",
      "source": [
        "page.content"
      ],
      "execution_count": 0,
      "outputs": [
        {
          "output_type": "execute_result",
          "data": {
            "text/plain": [
              "'<html><head>\\n<script type=\"text/javascript\">\\nwindow.onload = function() {\\n  // Parse the tracking code from cookies.\\n  var trk = \"bf\";\\n  var trkInfo = \"bf\";\\n  var cookies = document.cookie.split(\"; \");\\n  for (var i = 0; i < cookies.length; ++i) {\\n    if ((cookies[i].indexOf(\"trkCode=\") == 0) && (cookies[i].length > 8)) {\\n      trk = cookies[i].substring(8);\\n    }\\n    else if ((cookies[i].indexOf(\"trkInfo=\") == 0) && (cookies[i].length > 8)) {\\n      trkInfo = cookies[i].substring(8);\\n    }\\n  }\\n\\n  if (window.location.protocol == \"http:\") {\\n    // If \"sl\" cookie is set, redirect to https.\\n    for (var i = 0; i < cookies.length; ++i) {\\n      if ((cookies[i].indexOf(\"sl=\") == 0) && (cookies[i].length > 3)) {\\n        window.location.href = \"https:\" + window.location.href.substring(window.location.protocol.length);\\n        return;\\n      }\\n    }\\n  }\\n\\n  // Get the new domain. For international domains such as\\n  // fr.linkedin.com, we convert it to www.linkedin.com\\n  var domain = \"www.linkedin.com\";\\n  if (domain != location.host) {\\n    var subdomainIndex = location.host.indexOf(\".linkedin\");\\n    if (subdomainIndex != -1) {\\n      domain = \"www\" + location.host.substring(subdomainIndex);\\n    }\\n  }\\n\\n  window.location.href = \"https://\" + domain + \"/authwall?trk=\" + trk + \"&trkInfo=\" + trkInfo +\\n      \"&originalReferer=\" + document.referrer.substr(0, 200) +\\n      \"&sessionRedirect=\" + encodeURIComponent(window.location.href);\\n}\\n</script>\\n</head></html>'"
            ]
          },
          "metadata": {
            "tags": []
          },
          "execution_count": 7
        }
      ]
    },
    {
      "metadata": {
        "id": "bdRcPoj3Ocdk",
        "colab_type": "code",
        "outputId": "b57e60f2-c715-4a93-e1cd-b8b4c55ece3b",
        "colab": {
          "base_uri": "https://localhost:8080/",
          "height": 301
        }
      },
      "cell_type": "code",
      "source": [
        "!pip install git+git://github.com/ericfourrier/scrape-linkedin.git"
      ],
      "execution_count": 0,
      "outputs": [
        {
          "output_type": "stream",
          "text": [
            "Collecting git+git://github.com/ericfourrier/scrape-linkedin.git\n",
            "  Cloning git://github.com/ericfourrier/scrape-linkedin.git to /tmp/pip-req-build-b4sD5t\n",
            "Requirement already satisfied: requests>=2.0.0 in /usr/local/lib/python2.7/dist-packages (from scrape-linkedin==0.1) (2.18.4)\n",
            "Requirement already satisfied: lxml in /usr/local/lib/python2.7/dist-packages (from scrape-linkedin==0.1) (4.2.6)\n",
            "Requirement already satisfied: click in /usr/local/lib/python2.7/dist-packages (from scrape-linkedin==0.1) (7.0)\n",
            "Requirement already satisfied: idna<2.7,>=2.5 in /usr/local/lib/python2.7/dist-packages (from requests>=2.0.0->scrape-linkedin==0.1) (2.6)\n",
            "Requirement already satisfied: urllib3<1.23,>=1.21.1 in /usr/local/lib/python2.7/dist-packages (from requests>=2.0.0->scrape-linkedin==0.1) (1.22)\n",
            "Requirement already satisfied: certifi>=2017.4.17 in /usr/local/lib/python2.7/dist-packages (from requests>=2.0.0->scrape-linkedin==0.1) (2018.11.29)\n",
            "Requirement already satisfied: chardet<3.1.0,>=3.0.2 in /usr/local/lib/python2.7/dist-packages (from requests>=2.0.0->scrape-linkedin==0.1) (3.0.4)\n",
            "Building wheels for collected packages: scrape-linkedin\n",
            "  Building wheel for scrape-linkedin (setup.py) ... \u001b[?25ldone\n",
            "\u001b[?25h  Stored in directory: /tmp/pip-ephem-wheel-cache-RjUiGT/wheels/31/0a/8e/d96082db19928decd39b8aa0a48c0e57dfc30b078872f25a0d\n",
            "Successfully built scrape-linkedin\n",
            "Installing collected packages: scrape-linkedin\n",
            "Successfully installed scrape-linkedin-0.1\n"
          ],
          "name": "stdout"
        }
      ]
    },
    {
      "metadata": {
        "id": "8ySmXgOJO_Oi",
        "colab_type": "code",
        "outputId": "a2e82853-d27d-4d4e-8d35-caa86e3b7ebf",
        "colab": {
          "base_uri": "https://localhost:8080/",
          "height": 575
        }
      },
      "cell_type": "code",
      "source": [
        "from pylinkedin.scraper import LinkedinItem\n",
        "l = LinkedinItem(url='https://www.linkedin.com/in/zkaramat/')\n",
        "l = LinkedinItem(html_string=profile_string)"
      ],
      "execution_count": 0,
      "outputs": [
        {
          "output_type": "error",
          "ename": "ServerIpBlacklisted",
          "evalue": "ignored",
          "traceback": [
            "\u001b[0;31m\u001b[0m",
            "\u001b[0;31mServerIpBlacklisted\u001b[0mTraceback (most recent call last)",
            "\u001b[0;32m<ipython-input-12-70553b798b1e>\u001b[0m in \u001b[0;36m<module>\u001b[0;34m()\u001b[0m\n\u001b[1;32m      1\u001b[0m \u001b[0;32mfrom\u001b[0m \u001b[0mpylinkedin\u001b[0m\u001b[0;34m.\u001b[0m\u001b[0mscraper\u001b[0m \u001b[0;32mimport\u001b[0m \u001b[0mLinkedinItem\u001b[0m\u001b[0;34m\u001b[0m\u001b[0m\n\u001b[0;32m----> 2\u001b[0;31m \u001b[0ml\u001b[0m \u001b[0;34m=\u001b[0m \u001b[0mLinkedinItem\u001b[0m\u001b[0;34m(\u001b[0m\u001b[0murl\u001b[0m\u001b[0;34m=\u001b[0m\u001b[0;34m'https://www.linkedin.com/in/zkaramat/'\u001b[0m\u001b[0;34m)\u001b[0m\u001b[0;34m\u001b[0m\u001b[0m\n\u001b[0m\u001b[1;32m      3\u001b[0m \u001b[0ml\u001b[0m \u001b[0;34m=\u001b[0m \u001b[0mLinkedinItem\u001b[0m\u001b[0;34m(\u001b[0m\u001b[0mhtml_string\u001b[0m\u001b[0;34m=\u001b[0m\u001b[0mprofile_string\u001b[0m\u001b[0;34m)\u001b[0m\u001b[0;34m\u001b[0m\u001b[0m\n",
            "\u001b[0;32m/usr/local/lib/python2.7/dist-packages/pylinkedin/scraper.pyc\u001b[0m in \u001b[0;36m__init__\u001b[0;34m(self, url, html_string, crequest)\u001b[0m\n\u001b[1;32m    107\u001b[0m             \u001b[0;32mif\u001b[0m \u001b[0;34m'linkedin.com/in'\u001b[0m \u001b[0;32mnot\u001b[0m \u001b[0;32min\u001b[0m \u001b[0murl\u001b[0m\u001b[0;34m:\u001b[0m\u001b[0;34m\u001b[0m\u001b[0m\n\u001b[1;32m    108\u001b[0m                 \u001b[0;32mraise\u001b[0m \u001b[0mNotAProfile\u001b[0m\u001b[0;34m(\u001b[0m\u001b[0;34m\"The url passed does not contain a valid lnkedin profile\"\u001b[0m\u001b[0;34m)\u001b[0m\u001b[0;34m\u001b[0m\u001b[0m\n\u001b[0;32m--> 109\u001b[0;31m             \u001b[0mself\u001b[0m\u001b[0;34m.\u001b[0m\u001b[0mresponse\u001b[0m \u001b[0;34m=\u001b[0m \u001b[0mself\u001b[0m\u001b[0;34m.\u001b[0m\u001b[0mcrequest\u001b[0m\u001b[0;34m.\u001b[0m\u001b[0mget\u001b[0m\u001b[0;34m(\u001b[0m\u001b[0mself\u001b[0m\u001b[0;34m.\u001b[0m\u001b[0murl\u001b[0m\u001b[0;34m)\u001b[0m\u001b[0;34m\u001b[0m\u001b[0m\n\u001b[0m\u001b[1;32m    110\u001b[0m             \u001b[0mself\u001b[0m\u001b[0;34m.\u001b[0m\u001b[0mtree\u001b[0m \u001b[0;34m=\u001b[0m \u001b[0mhtml\u001b[0m\u001b[0;34m.\u001b[0m\u001b[0mfromstring\u001b[0m\u001b[0;34m(\u001b[0m\u001b[0mself\u001b[0m\u001b[0;34m.\u001b[0m\u001b[0mresponse\u001b[0m\u001b[0;34m.\u001b[0m\u001b[0mtext\u001b[0m\u001b[0;34m)\u001b[0m\u001b[0;34m\u001b[0m\u001b[0m\n\u001b[1;32m    111\u001b[0m         \u001b[0;32melse\u001b[0m\u001b[0;34m:\u001b[0m\u001b[0;34m\u001b[0m\u001b[0m\n",
            "\u001b[0;32m/usr/local/lib/python2.7/dist-packages/pylinkedin/utils.pyc\u001b[0m in \u001b[0;36mget\u001b[0;34m(self, url, *args, **kwargs)\u001b[0m\n\u001b[1;32m    106\u001b[0m             \u001b[0;32mreturn\u001b[0m \u001b[0mself\u001b[0m\u001b[0;34m.\u001b[0m\u001b[0m_get\u001b[0m\u001b[0;34m(\u001b[0m\u001b[0murl\u001b[0m\u001b[0;34m=\u001b[0m\u001b[0murl\u001b[0m\u001b[0;34m,\u001b[0m \u001b[0mheaders\u001b[0m\u001b[0;34m=\u001b[0m\u001b[0mself\u001b[0m\u001b[0;34m.\u001b[0m\u001b[0mheaders\u001b[0m\u001b[0;34m,\u001b[0m \u001b[0mproxies\u001b[0m\u001b[0;34m=\u001b[0m\u001b[0mself\u001b[0m\u001b[0;34m.\u001b[0m\u001b[0mproxy\u001b[0m\u001b[0;34m,\u001b[0m \u001b[0;34m*\u001b[0m\u001b[0margs\u001b[0m\u001b[0;34m,\u001b[0m \u001b[0;34m**\u001b[0m\u001b[0mkwargs\u001b[0m\u001b[0;34m)\u001b[0m\u001b[0;34m\u001b[0m\u001b[0m\n\u001b[1;32m    107\u001b[0m         \u001b[0;32melse\u001b[0m\u001b[0;34m:\u001b[0m\u001b[0;34m\u001b[0m\u001b[0m\n\u001b[0;32m--> 108\u001b[0;31m             \u001b[0;32mreturn\u001b[0m \u001b[0mself\u001b[0m\u001b[0;34m.\u001b[0m\u001b[0m_get\u001b[0m\u001b[0;34m(\u001b[0m\u001b[0murl\u001b[0m\u001b[0;34m=\u001b[0m\u001b[0murl\u001b[0m\u001b[0;34m,\u001b[0m \u001b[0mheaders\u001b[0m\u001b[0;34m=\u001b[0m\u001b[0mself\u001b[0m\u001b[0;34m.\u001b[0m\u001b[0mheaders\u001b[0m\u001b[0;34m,\u001b[0m \u001b[0;34m*\u001b[0m\u001b[0margs\u001b[0m\u001b[0;34m,\u001b[0m \u001b[0;34m**\u001b[0m\u001b[0mkwargs\u001b[0m\u001b[0;34m)\u001b[0m\u001b[0;34m\u001b[0m\u001b[0m\n\u001b[0m\u001b[1;32m    109\u001b[0m \u001b[0;34m\u001b[0m\u001b[0m\n\u001b[1;32m    110\u001b[0m \u001b[0;31m# Read and write to a pretty json\u001b[0m\u001b[0;34m\u001b[0m\u001b[0;34m\u001b[0m\u001b[0m\n",
            "\u001b[0;32m/usr/local/lib/python2.7/dist-packages/pylinkedin/utils.pyc\u001b[0m in \u001b[0;36m_get\u001b[0;34m(self, url, *args, **kwargs)\u001b[0m\n\u001b[1;32m     88\u001b[0m             \u001b[0;32mif\u001b[0m \u001b[0mr\u001b[0m\u001b[0;34m.\u001b[0m\u001b[0mstatus_code\u001b[0m \u001b[0;34m==\u001b[0m \u001b[0;36m999\u001b[0m\u001b[0;34m:\u001b[0m\u001b[0;34m\u001b[0m\u001b[0m\n\u001b[1;32m     89\u001b[0m                 \u001b[0mmsg_error\u001b[0m \u001b[0;34m=\u001b[0m \u001b[0;34m\"Linkedin blacklists ips for unauthentified http requests, Aws, Digital Ocean\"\u001b[0m\u001b[0;34m\u001b[0m\u001b[0m\n\u001b[0;32m---> 90\u001b[0;31m                 \u001b[0;32mraise\u001b[0m \u001b[0mServerIpBlacklisted\u001b[0m\u001b[0;34m(\u001b[0m\u001b[0mmsg_error\u001b[0m\u001b[0;34m)\u001b[0m\u001b[0;34m\u001b[0m\u001b[0m\n\u001b[0m\u001b[1;32m     91\u001b[0m             \u001b[0;32melif\u001b[0m \u001b[0mr\u001b[0m\u001b[0;34m.\u001b[0m\u001b[0mstatus_code\u001b[0m \u001b[0;34m==\u001b[0m \u001b[0;36m404\u001b[0m\u001b[0;34m:\u001b[0m\u001b[0;34m\u001b[0m\u001b[0m\n\u001b[1;32m     92\u001b[0m                 \u001b[0;32mraise\u001b[0m \u001b[0mProfileNotFound\u001b[0m\u001b[0;34m(\u001b[0m\u001b[0;34m\"The following url :{} can not be publicely found on Linkedin (404 error)\"\u001b[0m\u001b[0;34m.\u001b[0m\u001b[0mformat\u001b[0m\u001b[0;34m(\u001b[0m\u001b[0murl\u001b[0m\u001b[0;34m)\u001b[0m\u001b[0;34m)\u001b[0m\u001b[0;34m\u001b[0m\u001b[0m\n",
            "\u001b[0;31mServerIpBlacklisted\u001b[0m: Linkedin blacklists ips for unauthentified http requests, Aws, Digital Ocean"
          ]
        }
      ]
    },
    {
      "metadata": {
        "id": "5jhDJh99PGW2",
        "colab_type": "code",
        "colab": {}
      },
      "cell_type": "code",
      "source": [
        "import requests\n",
        "\n",
        "url = 'http://google.com/favicon.ico'\n",
        "r = requests.get('https://www.linkedin.com/in/zkaramat/', allow_redirects=True)"
      ],
      "execution_count": 0,
      "outputs": []
    },
    {
      "metadata": {
        "id": "WjvuH1JoRhs9",
        "colab_type": "code",
        "outputId": "bbc2bfda-878b-4f7a-b7fc-2e9d4d2bf808",
        "colab": {
          "base_uri": "https://localhost:8080/",
          "height": 34
        }
      },
      "cell_type": "code",
      "source": [
        "r\n"
      ],
      "execution_count": 0,
      "outputs": [
        {
          "output_type": "execute_result",
          "data": {
            "text/plain": [
              "<Response [999]>"
            ]
          },
          "metadata": {
            "tags": []
          },
          "execution_count": 14
        }
      ]
    },
    {
      "metadata": {
        "id": "RndAiE-fRiME",
        "colab_type": "code",
        "colab": {}
      },
      "cell_type": "code",
      "source": [
        ""
      ],
      "execution_count": 0,
      "outputs": []
    }
  ]
}