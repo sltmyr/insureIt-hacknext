{
 "cells": [
  {
   "cell_type": "code",
   "execution_count": 7,
   "metadata": {},
   "outputs": [
    {
     "name": "stdout",
     "output_type": "stream",
     "text": [
      "Looping begin\n",
      "Getting Tweets\n",
      "Nothing detected\n",
      "Getting Tweets\n",
      "Nothing detected\n",
      "Getting Tweets\n",
      "Nothing detected\n",
      "Getting Tweets\n",
      "Nothing detected\n",
      "Getting Tweets\n",
      "Nothing detected\n",
      "Getting Tweets\n",
      "['bicycle']\n",
      "{\"multicast_id\":7344134548610890777,\"success\":1,\"failure\":0,\"canonical_ids\":0,\"results\":[{\"message_id\":\"0:1552129474667041%cc9b4facf9fd7ecd\"}]}\n"
     ]
    },
    {
     "ename": "KeyboardInterrupt",
     "evalue": "",
     "output_type": "error",
     "traceback": [
      "\u001b[0;31m---------------------------------------------------------------------------\u001b[0m",
      "\u001b[0;31mKeyboardInterrupt\u001b[0m                         Traceback (most recent call last)",
      "\u001b[0;32m<ipython-input-7-1aad9605e87d>\u001b[0m in \u001b[0;36m<module>\u001b[0;34m()\u001b[0m\n\u001b[1;32m     47\u001b[0m \u001b[0mprint\u001b[0m\u001b[0;34m(\u001b[0m\u001b[0;34m\"Looping begin\"\u001b[0m\u001b[0;34m)\u001b[0m\u001b[0;34m\u001b[0m\u001b[0;34m\u001b[0m\u001b[0m\n\u001b[1;32m     48\u001b[0m \u001b[0;32mfor\u001b[0m \u001b[0mi\u001b[0m \u001b[0;32min\u001b[0m \u001b[0mrange\u001b[0m\u001b[0;34m(\u001b[0m\u001b[0;36m0\u001b[0m\u001b[0;34m,\u001b[0m\u001b[0;36m100\u001b[0m\u001b[0;34m)\u001b[0m\u001b[0;34m:\u001b[0m\u001b[0;34m\u001b[0m\u001b[0;34m\u001b[0m\u001b[0m\n\u001b[0;32m---> 49\u001b[0;31m     \u001b[0msleep\u001b[0m\u001b[0;34m(\u001b[0m\u001b[0;36m5\u001b[0m\u001b[0;34m)\u001b[0m\u001b[0;34m\u001b[0m\u001b[0;34m\u001b[0m\u001b[0m\n\u001b[0m\u001b[1;32m     50\u001b[0m     \u001b[0mprint\u001b[0m\u001b[0;34m(\u001b[0m\u001b[0;34m\"Getting Tweets\"\u001b[0m\u001b[0;34m)\u001b[0m\u001b[0;34m\u001b[0m\u001b[0;34m\u001b[0m\u001b[0m\n\u001b[1;32m     51\u001b[0m     \u001b[0mt\u001b[0m \u001b[0;34m=\u001b[0m \u001b[0mapi\u001b[0m\u001b[0;34m.\u001b[0m\u001b[0mGetUserTimeline\u001b[0m\u001b[0;34m(\u001b[0m\u001b[0mscreen_name\u001b[0m\u001b[0;34m=\u001b[0m\u001b[0;34m\"zeeshankramat\"\u001b[0m\u001b[0;34m,\u001b[0m \u001b[0mcount\u001b[0m\u001b[0;34m=\u001b[0m\u001b[0;36m1\u001b[0m\u001b[0;34m)\u001b[0m\u001b[0;34m\u001b[0m\u001b[0;34m\u001b[0m\u001b[0m\n",
      "\u001b[0;31mKeyboardInterrupt\u001b[0m: "
     ]
    }
   ],
   "source": [
    "import twitter\n",
    "from watson_developer_cloud import VisualRecognitionV3\n",
    "import json\n",
    "from watson_developer_cloud import VisualRecognitionV3\n",
    "from requests import get\n",
    "from time import sleep\n",
    "import requests\n",
    "\n",
    "def download(url, file_name):\n",
    "    # open in binary mode\n",
    "    with open(file_name, \"wb\") as file:\n",
    "        # get request\n",
    "        response = get(url)\n",
    "        # write to file\n",
    "        file.write(response.content)\n",
    "\n",
    "file_name = 'temp.jpg'\n",
    "images_list = ['cat','dog','dinasour','turtle','baby','bicycle']\n",
    "visual_recognition = VisualRecognitionV3(\n",
    "    version='v1',\n",
    "    iam_apikey='lZYHTv5_aU1UWTeN44gCQMLbS-eTwPMkwuCjENuOUT4d'\n",
    ")\n",
    "#AgLB9mhTmMZWV_gsorU3ipMRoTgosTV5YGQGmfObp8mG\n",
    "#lZYHTv5_aU1UWTeN44gCQMLbS-eTwPMkwuCjENuOUT4d\n",
    "\n",
    "url = \"https://fcm.googleapis.com/fcm/send\"\n",
    "\n",
    "payload = \"{\\n    \\\"notification\\\": {\\n        \\\"title\\\": \\\"InsureIT\\\",\\n        \\\"body\\\": \\\"40% Sale on life insurance for new borns\\\",\\n        \\\"click_action\\\": \\\"http://40.113.117.178:90/quote.html\\\",\\n        \\\"icon\\\": \\\"https://raw.githubusercontent.com/mzkaramat/IconCDN/master/get_quotes.png\\\"\\n    },\\n    \\\"to\\\": \\\"cpV8_eOL3FA:APA91bEkvxwAP-LplT7RqbyI4wTpSFqb64lqW_hLH64MUOOcPxDjfTiSPbdm6IPNxRL1-p5IS1i9j3jHbCmjimDWhwF8IZulmUrOOwiswCAHDNS5yEB_KN9lhiHlMfywSd-hG3evr8VI\\\"\\n}\"\n",
    "headers = {\n",
    "    'content-type': \"application/json\",\n",
    "    'authorization': \"key=AAAAfFub-Lw:APA91bHKf4ijc_7yq7wsyn-PEzXr6d1QEwwvQV9uoIOFp84kdq6nk3qyDaxMiAtJBXKRMjt20ncwQgEUtLCYuRpDbdAtKrOY3r0syZf0PiEScTdP0avUydKh5gIU2mqCwbA928CYs4So\",\n",
    "    'cache-control': \"no-cache\",\n",
    "    'postman-token': \"2184822a-63f9-792f-e5ed-ece86ad2f45a\"\n",
    "    }\n",
    "\n",
    "api = twitter.Api(consumer_key='dWKH1QPMLIb8bXdSFp77XuLP7',\n",
    "  consumer_secret='yNRinqPLmZL3XA7hgRWc4NifF8O2oBKe0bnlYykkUE8TfZ6a2g',\n",
    "  access_token_key='750704082-9gOjNpqlBQYbFmk6LWTI3xAFIpdyPPgzfzaS0rTm',\n",
    "  access_token_secret='Fm4DIg3aRHbcFakcn2L0NNfyM3Yu1TlILPDS3bxtCygdP')\n",
    "\n",
    "visual_recognition = VisualRecognitionV3(\n",
    "    '2018-03-19',\n",
    "    iam_apikey='lZYHTv5_aU1UWTeN44gCQMLbS-eTwPMkwuCjENuOUT4d')\n",
    "\n",
    "baby_detected = False\n",
    "\n",
    "print(\"Looping begin\")\n",
    "for i in range(0,100):\n",
    "    sleep(5)\n",
    "    print(\"Getting Tweets\")\n",
    "    t = api.GetUserTimeline(screen_name=\"zeeshankramat\", count=1)\n",
    "    tweets = [i.AsDict() for i in t]\n",
    "    try:\n",
    "        #download latest image\n",
    "        download (tweets[0]['media'][0]['media_url_https'], file_name)\n",
    "\n",
    "        #making request to IBM\n",
    "        with open(file_name, 'rb') as images_file:\n",
    "            classes = visual_recognition.classify(\n",
    "                images_file,\n",
    "                threshold='0.6',\n",
    "            classifier_ids='default').get_result()\n",
    "        parsed_obj = json.dumps(classes, indent=2)\n",
    "\n",
    "        predicted_output = [category['class'] for category in classes['images'][0]['classifiers'][0]['classes'] if category['class']  in images_list]\n",
    "        \n",
    "        print(predicted_output)\n",
    "        if predicted_output[0] == 'bicycle' and not (baby_detected):\n",
    "            response = requests.request(\"POST\", url, data=payload, headers=headers)\n",
    "            baby_detected = True\n",
    "            print(response.text)\n",
    "    except:\n",
    "        print(\"Nothing detected\")"
   ]
  },
  {
   "cell_type": "code",
   "execution_count": null,
   "metadata": {},
   "outputs": [],
   "source": []
  },
  {
   "cell_type": "code",
   "execution_count": null,
   "metadata": {},
   "outputs": [],
   "source": []
  },
  {
   "cell_type": "code",
   "execution_count": null,
   "metadata": {},
   "outputs": [],
   "source": [
    "\n",
    "\n",
    "\n",
    "\n"
   ]
  },
  {
   "cell_type": "code",
   "execution_count": null,
   "metadata": {},
   "outputs": [],
   "source": []
  }
 ],
 "metadata": {
  "kernelspec": {
   "display_name": "Python 3",
   "language": "python",
   "name": "python3"
  },
  "language_info": {
   "codemirror_mode": {
    "name": "ipython",
    "version": 3
   },
   "file_extension": ".py",
   "mimetype": "text/x-python",
   "name": "python",
   "nbconvert_exporter": "python",
   "pygments_lexer": "ipython3",
   "version": "3.7.2"
  }
 },
 "nbformat": 4,
 "nbformat_minor": 2
}
