{
 "cells": [
  {
   "cell_type": "code",
   "execution_count": 34,
   "metadata": {},
   "outputs": [],
   "source": []
  },
  {
   "cell_type": "code",
   "execution_count": 49,
   "metadata": {},
   "outputs": [
    {
     "name": "stdout",
     "output_type": "stream",
     "text": [
      "[{'purpose': 'STEURNR 555/233/10884 LOHNST 18 KOERPST 18', 'amount': -68804.08, 'currency': 'EUR', 'bookingDate': 1549756800}, {'purpose': 'Invoice 7334541', 'amount': 28189.35, 'currency': 'EUR', 'bookingDate': 1549843200}, {'purpose': 'Rechnung 6762652', 'amount': -26106.47, 'currency': 'EUR', 'bookingDate': 1549843200}, {'purpose': 'Invoice 9732841', 'amount': 25115.47, 'currency': 'EUR', 'bookingDate': 1549843200}, {'purpose': 'Inv. No. 2750679', 'amount': 13091.56, 'currency': 'EUR', 'bookingDate': 1549843200}]\n"
     ]
    }
   ],
   "source": [
    "import requests\n",
    "import json\n",
    "import pandas as pd\n",
    "\n",
    "r = requests.post('https://blacklayer.test.fino.cloud/api/2face/auth', data = json.dumps({\"Email\": \"florian.ziesche@tum.cn\",\"Password\": \"!Demo1234\"}),headers = {\"Content-Type\":\"application/json\",\"X-FINO-ClientID\":\"2face_api\",\"X-Fino-ClientSecret\":\"e105fb2a-bc75-4c5f-b7d7-3ca7270d90da\"})\n",
    "resp = r.json()\n",
    "access_token = resp['data']['refreshToken']\n",
    "\n",
    "r = requests.post('https://blacklayer.test.fino.cloud/api/2face/auth/refresh', data = json.dumps({\n",
    "  \"refreshToken\": access_token\n",
    "}),headers = {\"Content-Type\":\"application/json\",\"X-FINO-ClientID\":\"2face_api\",\"X-Fino-ClientSecret\":\"e105fb2a-bc75-4c5f-b7d7-3ca7270d90da\"})\n",
    "\n",
    "resp = r.json()\n",
    "access_token = resp['data']['accessToken']\n",
    "\n",
    "r = requests.get('https://blacklayer.test.fino.cloud/api/2face/user/connector/bank/account',headers = {\"Content-Type\":\"application/json\",\"X-FINO-Authorization\":\"Bearer \"+access_token })\n",
    "transactions_data = r.json()\n",
    "transactions_df = pd.DataFrame(transactions_data['data']['accounts'][0]['transactions'])\n",
    "\n",
    "\n",
    "transactions_df = transactions_df[['purpose','amount','currency','bookingDate']]\n",
    "print(transactions_df.head().to_dict('records'))\n",
    "\n"
   ]
  },
  {
   "cell_type": "code",
   "execution_count": 35,
   "metadata": {},
   "outputs": [],
   "source": []
  },
  {
   "cell_type": "code",
   "execution_count": null,
   "metadata": {},
   "outputs": [],
   "source": []
  }
 ],
 "metadata": {
  "kernelspec": {
   "display_name": "Python 3",
   "language": "python",
   "name": "python3"
  },
  "language_info": {
   "codemirror_mode": {
    "name": "ipython",
    "version": 3
   },
   "file_extension": ".py",
   "mimetype": "text/x-python",
   "name": "python",
   "nbconvert_exporter": "python",
   "pygments_lexer": "ipython3",
   "version": "3.7.2"
  }
 },
 "nbformat": 4,
 "nbformat_minor": 2
}
